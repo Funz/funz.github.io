{
  "cells": [
    {
      "cell_type": "code",
      "execution_count": null,
      "metadata": {
        "colab": {
          "base_uri": "https://localhost:8080/"
        },
        "id": "NfVH4l_7PcUH",
        "outputId": "d454562e-d8e6-414b-eba0-536e16ee737c"
      },
      "outputs": [],
      "source": [
        "# install openmodelica from its repository\n",
        "! for deb in deb deb-src; do echo \"$deb http://build.openmodelica.org/apt `lsb_release -cs` release\"; done | sudo tee /etc/apt/sources.list.d/openmodelica.list\n",
        "! wget -q http://build.openmodelica.org/apt/openmodelica.asc -O- | sudo apt-key add -\n",
        "! apt update && apt install openmodelica\n",
        "\n",
        "# check 'omc' command\n",
        "! omc --help"
      ]
    },
    {
      "cell_type": "code",
      "execution_count": null,
      "metadata": {
        "colab": {
          "base_uri": "https://localhost:8080/"
        },
        "id": "XXDNeCBMPEuT",
        "outputId": "6e990221-c74c-470f-93f6-ea73289ecaf8"
      },
      "outputs": [],
      "source": [
        "# install Funz through pypi\n",
        "!pip install --upgrade https://github.com/Funz/Funz.py/tarball/master\n",
        "!#pip install Funz\n",
        "import Funz"
      ]
    },
    {
      "cell_type": "code",
      "execution_count": null,
      "metadata": {
        "colab": {
          "base_uri": "https://localhost:8080/"
        },
        "id": "3_JRRUujQ2X1",
        "outputId": "ce0758e8-54d3-419d-c01e-9a77411b44c0"
      },
      "outputs": [],
      "source": [
        "# install plugin to support Modelica I/O\n",
        "Funz.installModel('Modelica', edit_script=False)"
      ]
    },
    {
      "cell_type": "code",
      "execution_count": null,
      "metadata": {
        "colab": {
          "base_uri": "https://localhost:8080/"
        },
        "id": "BYiTZQsLQqE6",
        "outputId": "201fdbb3-907f-45f4-9f3f-447a4dfe7714"
      },
      "outputs": [],
      "source": [
        "# setup main input file\n",
        "%%writefile NewtonCooling.mo\n",
        "// @ref http://book.xogeny.com/behavior/equations/physical/\n",
        "model NewtonCooling \"An example of Newton's law of cooling\"\n",
        "  parameter Real T_inf=25 \"Ambient temperature\";\n",
        "  parameter Real T0=90 \"Initial temperature\";\n",
        "  parameter Real h=0.7 \"Convective cooling coefficient\";\n",
        "  parameter Real A=1.0 \"Surface area\";\n",
        "  parameter Real m=0.1 \"Mass of thermal capacitance\";\n",
        "  parameter Real c_p=1.2 \"Specific heat\";\n",
        "  Real T \"Temperature\";\n",
        "initial equation\n",
        "  T = T0 \"Specify initial value for T\";\n",
        "equation\n",
        "  m*c_p*der(T) = h*A*(T_inf-T) \"Newton's law of cooling\";\n",
        "end NewtonCooling;"
      ]
    },
    {
      "cell_type": "code",
      "execution_count": null,
      "metadata": {
        "colab": {
          "base_uri": "https://localhost:8080/"
        },
        "id": "MuSd20rxV7kq",
        "outputId": "9669f4db-7ff3-4419-b4b2-f94553edc1ac"
      },
      "outputs": [],
      "source": [
        "# wake up the Funz 'daemon' which will provide calculation services:\n",
        "Funz.startCalculators(1)"
      ]
    },
    {
      "cell_type": "code",
      "execution_count": null,
      "metadata": {
        "colab": {
          "base_uri": "https://localhost:8080/"
        },
        "id": "SwWrpxWsiART",
        "outputId": "43dcad10-0f75-4833-9927-bbe6535bb6ec"
      },
      "outputs": [],
      "source": [
        "# run just this file with Funz (that will check everything is ok for later parametric study)\n",
        "Funz.Run(model=\"Modelica\",input_files=\"NewtonCooling.mo\")"
      ]
    },
    {
      "cell_type": "code",
      "execution_count": null,
      "metadata": {
        "colab": {
          "base_uri": "https://localhost:8080/"
        },
        "id": "1A5L0zH9Pxw4",
        "outputId": "a7193579-3e98-4f20-9d92-5fe8e57a1b01"
      },
      "outputs": [],
      "source": [
        "# setup main parametrized (with `$convection`) input file\n",
        "%%writefile NewtonCooling.mo.par\n",
        "// @ref http://book.xogeny.com/behavior/equations/physical/\n",
        "model NewtonCooling \"An example of Newton's law of cooling\"\n",
        "  parameter Real T_inf=25 \"Ambient temperature\";\n",
        "  parameter Real T0=90 \"Initial temperature\";\n",
        "  parameter Real h=$convection \"Convective cooling coefficient\";\n",
        "  parameter Real A=1.0 \"Surface area\";\n",
        "  parameter Real m=0.1 \"Mass of thermal capacitance\";\n",
        "  parameter Real c_p=1.2 \"Specific heat\";\n",
        "  Real T \"Temperature\";\n",
        "initial equation\n",
        "  T = T0 \"Specify initial value for T\";\n",
        "equation\n",
        "  m*c_p*der(T) = h*A*(T_inf-T) \"Newton's law of cooling\";\n",
        "end NewtonCooling;"
      ]
    },
    {
      "cell_type": "code",
      "execution_count": null,
      "metadata": {
        "colab": {
          "base_uri": "https://localhost:8080/"
        },
        "id": "gpW1zXxoP84N",
        "outputId": "df551f78-072a-4b47-9831-05d658b26c23"
      },
      "outputs": [],
      "source": [
        "# launch 6 calculations for different `convection` values (0.5, 0.6, 0.7, 0.8, 0.9, 1.0)\n",
        "Funz.Run(model=\"Modelica\",input_files=\"NewtonCooling.mo.par\", input_variables={'convection':[0.5,0.6,0.7,0.8,0.9,1.0]}, output_expressions=\"min(T)\")"
      ]
    },
    {
      "cell_type": "code",
      "execution_count": null,
      "metadata": {
        "colab": {
          "base_uri": "https://localhost:8080/"
        },
        "id": "1cgGfgRywTN2",
        "outputId": "b5241150-b0ac-4829-d48a-a4ae4901ff27"
      },
      "outputs": [],
      "source": [
        "# install Brent root finding algorithm\n",
        "Funz.installDesign('Brent')"
      ]
    },
    {
      "cell_type": "code",
      "execution_count": null,
      "metadata": {
        "colab": {
          "base_uri": "https://localhost:8080/"
        },
        "id": "IDxt9JJiwhuv",
        "outputId": "1d0eeb89-ffc5-4194-fcf6-e97d5a36712a"
      },
      "outputs": [],
      "source": [
        "# find the `convection` value leading to `min(T) = 25.2` (with relative precision of 0.01 on `convection` value)\n",
        "Funz.RunDesign(model=\"Modelica\",input_files=\"NewtonCooling.mo.par\", input_variables={'convection':\"[0.5,1.0]\"}, output_expressions=\"min(T)\", \n",
        "               design=\"Brent\", design_options={'ytarget':25.2, 'ytol':0.01})"
      ]
    }
  ],
  "metadata": {
    "colab": {
      "provenance": []
    },
    "kernelspec": {
      "display_name": "Python 3",
      "name": "python3"
    },
    "language_info": {
      "name": "python"
    }
  },
  "nbformat": 4,
  "nbformat_minor": 0
}
