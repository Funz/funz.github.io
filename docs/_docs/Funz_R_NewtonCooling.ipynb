{
  "cells": [
    {
      "cell_type": "code",
      "execution_count": null,
      "metadata": {
        "colab": {
          "base_uri": "https://localhost:8080/"
        },
        "id": "CDvUsBPGct0c",
        "outputId": "0044e065-640c-4eae-e50a-00c4a4c56bc0",
        "vscode": {
          "languageId": "r"
        }
      },
      "outputs": [],
      "source": [
        "# install openmodelica from its repository\n",
        "\n",
        "shell_call <- function(command, ...) { # required for later call of shell...\n",
        "  result <- system(command, intern = TRUE, ...)\n",
        "  cat(paste0(result, collapse = \"\\n\"))\n",
        "}\n",
        "\n",
        "shell_call('for deb in deb deb-src; do echo \"$deb http://build.openmodelica.org/apt `lsb_release -cs` release\"; done | sudo tee /etc/apt/sources.list.d/openmodelica.list')\n",
        "shell_call('wget -q http://build.openmodelica.org/apt/openmodelica.asc -O- | sudo apt-key add -')\n",
        "shell_call('apt update && apt install openmodelica')\n",
        "\n",
        "# check 'omc' command\n",
        "shell_call('omc --help')"
      ]
    },
    {
      "cell_type": "code",
      "execution_count": null,
      "metadata": {
        "colab": {
          "base_uri": "https://localhost:8080/"
        },
        "id": "OHZCZ_HRcyW9",
        "outputId": "b827aedb-d77b-4820-98de-2aec1acde47c",
        "vscode": {
          "languageId": "r"
        }
      },
      "outputs": [],
      "source": [
        "# install Funz through devtools\n",
        "devtools::install_github('Funz/Funz.R')\n",
        "library(Funz)"
      ]
    },
    {
      "cell_type": "code",
      "execution_count": null,
      "metadata": {
        "colab": {
          "base_uri": "https://localhost:8080/"
        },
        "id": "H7dniW_ke_CW",
        "outputId": "4f2025b1-597d-40c8-f3a3-78aeffe4b9fb",
        "vscode": {
          "languageId": "r"
        }
      },
      "outputs": [],
      "source": [
        "# install plugin to support Modelica I/O\n",
        "install.Model('Modelica', edit.script=FALSE)"
      ]
    },
    {
      "cell_type": "code",
      "execution_count": 4,
      "metadata": {
        "id": "pIpcn1YFe_AN",
        "vscode": {
          "languageId": "r"
        }
      },
      "outputs": [],
      "source": [
        "# setup main input file\n",
        "writeLines(con='NewtonCooling.mo',text=c(\n",
        "'// @ref http://book.xogeny.com/behavior/equations/physical/',\n",
        "'model NewtonCooling \"An example of Newton s law of cooling\"',\n",
        "'  parameter Real T_inf=25 \"Ambient temperature\";',\n",
        "'  parameter Real T0=90 \"Initial temperature\";',\n",
        "'  parameter Real h=0.7 \"Convective cooling coefficient\";',\n",
        "'  parameter Real A=1.0 \"Surface area\";',\n",
        "'  parameter Real m=0.1 \"Mass of thermal capacitance\";',\n",
        "'  parameter Real c_p=1.2 \"Specific heat\";',\n",
        "'  Real T \"Temperature\";',\n",
        "'initial equation',\n",
        "'  T = T0 \"Specify initial value for T\";',\n",
        "'equation',\n",
        "'  m*c_p*der(T) = h*A*(T_inf-T) \"Newton s law of cooling\";',\n",
        "'end NewtonCooling;'\n",
        "))"
      ]
    },
    {
      "cell_type": "code",
      "execution_count": null,
      "metadata": {
        "colab": {
          "base_uri": "https://localhost:8080/",
          "height": 52
        },
        "id": "-YF5QtH0WH0a",
        "outputId": "47ad0e12-903a-453c-c0e4-547b2a3a25e3",
        "vscode": {
          "languageId": "r"
        }
      },
      "outputs": [],
      "source": [
        "# wake up the Funz 'daemon' which will provide calculation services:\n",
        "startCalculators(1)"
      ]
    },
    {
      "cell_type": "code",
      "execution_count": null,
      "metadata": {
        "colab": {
          "base_uri": "https://localhost:8080/",
          "height": 1000
        },
        "id": "TTL8PTEne-94",
        "outputId": "0dcf3eb6-a9a4-40e5-e811-a06c1388e83f",
        "vscode": {
          "languageId": "r"
        }
      },
      "outputs": [],
      "source": [
        "# run this file with Funz (that will check everything is ok for later parametric study)\n",
        "Run(model=\"Modelica\",input.files=\"NewtonCooling.mo\")"
      ]
    },
    {
      "cell_type": "code",
      "execution_count": 7,
      "metadata": {
        "id": "t-OQ0GJ-e-x0",
        "vscode": {
          "languageId": "r"
        }
      },
      "outputs": [],
      "source": [
        "# setup main parametrized (with `$convection`) input file\n",
        "writeLines(con='NewtonCooling.mo.par',text=c(\n",
        "'// @ref http://book.xogeny.com/behavior/equations/physical/',\n",
        "'model NewtonCooling \"An example of Newton s law of cooling\"',\n",
        "'  parameter Real T_inf=25 \"Ambient temperature\";',\n",
        "'  parameter Real T0=90 \"Initial temperature\";',\n",
        "'  parameter Real h=$convection \"Convective cooling coefficient\";',\n",
        "'  parameter Real A=1.0 \"Surface area\";',\n",
        "'  parameter Real m=0.1 \"Mass of thermal capacitance\";',\n",
        "'  parameter Real c_p=1.2 \"Specific heat\";',\n",
        "'  Real T \"Temperature\";',\n",
        "'initial equation',\n",
        "'  T = T0 \"Specify initial value for T\";',\n",
        "'equation',\n",
        "'  m*c_p*der(T) = h*A*(T_inf-T) \"Newton s law of cooling\";',\n",
        "'end NewtonCooling;'\n",
        "))"
      ]
    },
    {
      "cell_type": "code",
      "execution_count": null,
      "metadata": {
        "colab": {
          "base_uri": "https://localhost:8080/",
          "height": 1000
        },
        "id": "uW1dwiple-oX",
        "outputId": "a3bdbfd9-6317-48a3-d194-aa1097f195b6",
        "vscode": {
          "languageId": "r"
        }
      },
      "outputs": [],
      "source": [
        "# launch 6 calculations for different `convection` values (0.5, 0.6, 0.7, 0.8, 0.9, 1.0)\n",
        "Run(model=\"Modelica\",input.files=\"NewtonCooling.mo.par\", input.variables=list(convection=c(0.5,0.6,0.7,0.8,0.9,1.0)), output.expressions=\"min(T)\")"
      ]
    },
    {
      "cell_type": "code",
      "execution_count": null,
      "metadata": {
        "colab": {
          "base_uri": "https://localhost:8080/"
        },
        "id": "qDdF734LyYEq",
        "outputId": "d532e681-29fe-4ffd-a70d-699d5790dad3",
        "vscode": {
          "languageId": "r"
        }
      },
      "outputs": [],
      "source": [
        "# install Brent root finding algorithm\n",
        "install.Design('Brent')"
      ]
    },
    {
      "cell_type": "code",
      "execution_count": null,
      "metadata": {
        "colab": {
          "base_uri": "https://localhost:8080/",
          "height": 1000
        },
        "id": "1siKH0vAyX4t",
        "outputId": "5e7e5ca3-b40b-45a2-ec97-1c9b61a2b979",
        "vscode": {
          "languageId": "r"
        }
      },
      "outputs": [],
      "source": [
        "# find the `convection` value leading to `min(T) = 25.2` (with relative precision of 0.01 on `convection` value)\n",
        "RunDesign(model=\"Modelica\",input.files=\"NewtonCooling.mo.par\", input.variables=list(convection=\"[0.5,1.0]\"), output.expressions=\"min(T)\", \n",
        "          design=\"Brent\", design.options=list(ytarget=25.2, ytol=0.01))"
      ]
    }
  ],
  "metadata": {
    "colab": {
      "provenance": []
    },
    "kernelspec": {
      "display_name": "R",
      "name": "ir"
    },
    "language_info": {
      "name": "R"
    }
  },
  "nbformat": 4,
  "nbformat_minor": 0
}
